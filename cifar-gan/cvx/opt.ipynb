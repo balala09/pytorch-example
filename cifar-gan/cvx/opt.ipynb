{
 "cells": [
  {
   "cell_type": "code",
   "execution_count": null,
   "metadata": {},
   "outputs": [],
   "source": [
    "batch_size = 32\n",
    "import numpy as np\n",
    "np.set_printoptions(threshold=1e6)\n",
    "x = np.random.randn(batch_size,3,32,32)\n",
    "y = np.random.uniform(size=[batch_size,3,32,32])\n",
    "\n",
    "c = np.zeros([batch_size*batch_size])\n",
    "\n",
    "for i in range(batch_size):\n",
    "    z = (x - y[i]).reshape(batch_size,-1)\n",
    "    z = np.sqrt(np.sum(z ** 2,axis=1))\n",
    "    c[i*batch_size:(i+1)*batch_size] = z\n",
    "\n"
   ]
  },
  {
   "cell_type": "code",
   "execution_count": null,
   "metadata": {},
   "outputs": [],
   "source": [
    "import numpy as np\n",
    "a = np.array([[1,2],[3,4]])\n",
    "print a.reshape(4)"
   ]
  },
  {
   "cell_type": "code",
   "execution_count": null,
   "metadata": {},
   "outputs": [],
   "source": [
    "#行表示变量的个数\n",
    "a1 = np.zeros([batch_size*batch_size,batch_size]);\n",
    "a2 = np.zeros([batch_size*batch_size,batch_size])\n",
    "for i in range(batch_size):\n",
    "    a1[batch_size*i:batch_size*(i+1),i] = 1\n",
    "    a2[batch_size*i:batch_size*(i+1),:] = np.eye(batch_size,batch_size)\n",
    "\n",
    "A = np.concatenate((a1,a2),axis=1)\n",
    "A = A.T\n",
    "\n",
    "b = np.ones([batch_size*2])/batch_size"
   ]
  },
  {
   "cell_type": "code",
   "execution_count": null,
   "metadata": {},
   "outputs": [],
   "source": [
    "from scipy.optimize import linprog\n",
    "res = linprog(c, A_eq=A, b_eq=b,options={\"disp\": True,'maxiter':5000})\n",
    "\n",
    "print res.x.reshape(batch_size,batch_size)"
   ]
  },
  {
   "cell_type": "code",
   "execution_count": null,
   "metadata": {},
   "outputs": [],
   "source": [
    "from cvxopt import matrix, solvers\n",
    "A = matrix([ [-1.0, -1.0, 0.0, 1.0], [1.0, -1.0, -1.0, -2.0] ])\n",
    "b = matrix([ 1.0, -2.0, 0.0, 4.0 ])\n",
    "c = matrix([ 2.0, 1.0 ])\n",
    "print A.size\n",
    "print b.size\n",
    "print c.size\n",
    "sol=solvers.lp(c,A,b)"
   ]
  },
  {
   "cell_type": "code",
   "execution_count": 14,
   "metadata": {},
   "outputs": [
    {
     "name": "stdout",
     "output_type": "stream",
     "text": [
      "Iteration limit reached.\n",
      "         Current function value: 63.926367   \n",
      "         Iterations: 8320\n",
      "('totally cost', 85.05366086959839)\n"
     ]
    }
   ],
   "source": [
    "import time\n",
    "time_start=time.time()\n",
    "batch_size = 128\n",
    "import numpy as np\n",
    "np.set_printoptions(threshold=1e6)\n",
    "x = np.random.randn(batch_size,3,32,32)\n",
    "y = np.random.uniform(size=[batch_size,3,32,32])\n",
    "\n",
    "c = np.zeros([batch_size*batch_size])\n",
    "\n",
    "for i in range(batch_size):\n",
    "    z = (x - y[i]).reshape(batch_size,-1)\n",
    "    z = np.sqrt(np.sum(z ** 2,axis=1))\n",
    "    c[i*batch_size:(i+1)*batch_size] = z\n",
    "\n",
    "#行表示变量的个数\n",
    "a1 = np.zeros([batch_size*batch_size,batch_size]);\n",
    "a2 = np.zeros([batch_size*batch_size,batch_size])\n",
    "for i in range(batch_size):\n",
    "    a1[batch_size*i:batch_size*(i+1),i] = 1\n",
    "    a2[batch_size*i:batch_size*(i+1),:] = np.eye(batch_size,batch_size)\n",
    "\n",
    "A = np.concatenate((a1,a2),axis=1)\n",
    "A = A.T\n",
    "\n",
    "b = np.ones([batch_size*2])/batch_size\n",
    "from scipy.optimize import linprog\n",
    "res = linprog(c, A_eq=A, b_eq=b,options={\"disp\": True,'maxiter':15000})\n",
    "\n",
    "#print res.x.reshape(batch_size,batch_size)\n",
    "time_end=time.time()\n",
    "print('totally cost',time_end-time_start)"
   ]
  },
  {
   "cell_type": "code",
   "execution_count": 174,
   "metadata": {},
   "outputs": [
    {
     "data": {
      "text/plain": [
       "tensor(5.)"
      ]
     },
     "execution_count": 174,
     "metadata": {},
     "output_type": "execute_result"
    }
   ],
   "source": [
    "import torch\n",
    "a = torch.Tensor([1,2])\n",
    "a.norm() ** 2"
   ]
  },
  {
   "cell_type": "code",
   "execution_count": null,
   "metadata": {
    "collapsed": true
   },
   "outputs": [],
   "source": []
  },
  {
   "cell_type": "code",
   "execution_count": 161,
   "metadata": {},
   "outputs": [
    {
     "name": "stdout",
     "output_type": "stream",
     "text": [
      "[0.05326839 0.03711688 0.03204386 0.04276058 0.02336002]\n",
      "4.902623417736228 0.980124251609933\n",
      "0.5005928813832059 0.0832062121509935\n"
     ]
    }
   ],
   "source": [
    "import numpy as np\n",
    "import scipy.stats\n",
    "\n",
    "x = np.random.randn(50,5)+5\n",
    "y = np.random.uniform(size=[50000,5])\n",
    "x1 = np.random.randn(50,5)+5\n",
    "\n",
    "\n",
    "KL = scipy.stats.entropy(x, x1) \n",
    "\n",
    "print(KL)\n",
    "\n",
    "print x.mean(),x.var()\n",
    "print y.mean(),y.var()"
   ]
  }
 ],
 "metadata": {
  "kernelspec": {
   "display_name": "Python 2",
   "language": "python",
   "name": "python2"
  },
  "language_info": {
   "codemirror_mode": {
    "name": "ipython",
    "version": 2
   },
   "file_extension": ".py",
   "mimetype": "text/x-python",
   "name": "python",
   "nbconvert_exporter": "python",
   "pygments_lexer": "ipython2",
   "version": "2.7.14"
  }
 },
 "nbformat": 4,
 "nbformat_minor": 2
}

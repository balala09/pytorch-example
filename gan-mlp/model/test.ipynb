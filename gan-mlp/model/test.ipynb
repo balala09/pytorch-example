{
 "cells": [
  {
   "cell_type": "code",
   "execution_count": null,
   "metadata": {
    "collapsed": true
   },
   "outputs": [],
   "source": [
    "import torch\n",
    "import torch.nn as nn\n",
    "import torch.nn.functional as F\n",
    "#z with shape (n_samples,100)\n",
    "class GeneratorNet(nn.modules):\n",
    "    def __init__(self):\n",
    "        super(GeneratorNet, self).__init__()\n",
    "        self.fc1=nn.Linear(100,128);\n",
    "        self.fc2=nn.Linear(128,784);\n",
    "    def __forward__(self,x):\n",
    "        x = self.fc1(x);\n",
    "        x = self.fc2(x);\n",
    "    return x\n",
    "\n",
    "class DiscriminatorNet(x):\n",
    "    def __init__(self):\n",
    "        super(DiscriminatorNet,self).__init__()\n",
    "        self.fc1=nn.Linear(784,128);\n",
    "        self.fc2=nn.Linear(128,1);\n",
    "    def __forward__(self,x):\n",
    "        x = self.fc1(x);\n",
    "        x = self.fc2(x);\n",
    "        x = F.sigmoid(x,dim=1);\n",
    "        return x"
   ]
  },
  {
   "cell_type": "code",
   "execution_count": 24,
   "metadata": {},
   "outputs": [
    {
     "ename": "SyntaxError",
     "evalue": "invalid syntax (<ipython-input-24-531223f6f199>, line 20)",
     "output_type": "error",
     "traceback": [
      "\u001b[0;36m  File \u001b[0;32m\"<ipython-input-24-531223f6f199>\"\u001b[0;36m, line \u001b[0;32m20\u001b[0m\n\u001b[0;31m    delete sum_a\u001b[0m\n\u001b[0m               ^\u001b[0m\n\u001b[0;31mSyntaxError\u001b[0m\u001b[0;31m:\u001b[0m invalid syntax\n"
     ]
    }
   ],
   "source": [
    "\n",
    "\n",
    "import matplotlib.pyplot as plt\n",
    "import numpy as np\n",
    "\n",
    "\n",
    "a = np.random.uniform(-1,1,[100,5,5])\n",
    "height = 10 * 5;\n",
    "sum_a = np.ones([height,height]);\n",
    "index = 0;\n",
    "for i in range(10):\n",
    "    for j in range(10):\n",
    "        sum_a[i*5:(i+1)*5,j*5:(j+1)*5] = a[i*10+j,:,:];\n",
    "plt.imshow(sum_a)\n",
    "\n",
    "\n",
    "plt.show()\n",
    "\n",
    "\n",
    "delete sum_a\n"
   ]
  },
  {
   "cell_type": "code",
   "execution_count": 6,
   "metadata": {},
   "outputs": [
    {
     "name": "stdout",
     "output_type": "stream",
     "text": [
      "[5 5 5 5 5 6]\n"
     ]
    }
   ],
   "source": [
    "import numpy as np\n",
    "\n",
    "\n",
    "a = np.array([1,2,3,4,5,6])\n",
    "\n",
    "a = np.where(a>5,a,5)\n",
    "\n",
    "print a"
   ]
  },
  {
   "cell_type": "code",
   "execution_count": 2,
   "metadata": {},
   "outputs": [
    {
     "name": "stdout",
     "output_type": "stream",
     "text": [
      "tensor([ 2.,  2.,  3.,  4.,  5.,  5.])\n"
     ]
    }
   ],
   "source": [
    "import torch\n",
    "max = torch.Tensor([5])\n",
    "min = torch.Tensor([2])\n",
    "num = torch.Tensor([1,2,3,4,5,6])\n",
    "num = torch.where(num>max,max,num)\n",
    "num = torch.where(num<min,min,num)\n",
    "print num"
   ]
  },
  {
   "cell_type": "code",
   "execution_count": 4,
   "metadata": {},
   "outputs": [
    {
     "data": {
      "text/plain": [
       "8"
      ]
     },
     "execution_count": 4,
     "metadata": {},
     "output_type": "execute_result"
    }
   ],
   "source": [
    "import numpy as np\n",
    "\n",
    "int(np.sqrt(64))"
   ]
  }
 ],
 "metadata": {
  "kernelspec": {
   "display_name": "Python 2",
   "language": "python",
   "name": "python2"
  },
  "language_info": {
   "codemirror_mode": {
    "name": "ipython",
    "version": 2
   },
   "file_extension": ".py",
   "mimetype": "text/x-python",
   "name": "python",
   "nbconvert_exporter": "python",
   "pygments_lexer": "ipython2",
   "version": "2.7.14"
  }
 },
 "nbformat": 4,
 "nbformat_minor": 2
}

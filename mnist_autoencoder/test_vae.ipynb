{
 "cells": [
  {
   "cell_type": "code",
   "execution_count": 1,
   "metadata": {},
   "outputs": [
    {
     "name": "stdout",
     "output_type": "stream",
     "text": [
      "VAE(\n",
      "  (fc1): Linear(in_features=784, out_features=400, bias=True)\n",
      "  (fc21): Linear(in_features=400, out_features=20, bias=True)\n",
      "  (fc22): Linear(in_features=400, out_features=20, bias=True)\n",
      "  (fc3): Linear(in_features=20, out_features=400, bias=True)\n",
      "  (fc4): Linear(in_features=400, out_features=784, bias=True)\n",
      ")\n"
     ]
    }
   ],
   "source": [
    "import torch.nn as nn\n",
    "import torch.nn.functional as F\n",
    "import torch\n",
    "\n",
    "\n",
    "class VAE(nn.Module):\n",
    "    def __init__(self):\n",
    "        super(VAE, self).__init__()\n",
    "\n",
    "        self.fc1 = nn.Linear(784, 400)\n",
    "        self.fc21 = nn.Linear(400, 20)\n",
    "        self.fc22 = nn.Linear(400, 20)\n",
    "        self.fc3 = nn.Linear(20, 400)\n",
    "        self.fc4 = nn.Linear(400, 784)\n",
    "\n",
    "    def encode(self, x):\n",
    "        x = x.reshape(x.size(0),-1)\n",
    "        h1 = F.relu(self.fc1(x))\n",
    "        return self.fc21(h1), self.fc22(h1)\n",
    "\n",
    "    def reparametrize(self, mu, logvar):\n",
    "        std = logvar.mul(0.5).exp_()\n",
    "        if torch.cuda.is_available():\n",
    "            eps = torch.cuda.FloatTensor(std.size()).normal_()\n",
    "        else:\n",
    "            eps = torch.FloatTensor(std.size()).normal_()\n",
    "        return eps.mul(std).add_(mu)\n",
    "\n",
    "    def decode(self, z):\n",
    "        h3 = F.relu(self.fc3(z))\n",
    "        return F.sigmoid(self.fc4(h3))\n",
    "\n",
    "    def forward(self, x):\n",
    "\n",
    "        mu, logvar = self.encode(x)\n",
    "        z = self.reparametrize(mu, logvar)\n",
    "        return self.decode(z), mu, logvar\n",
    "\n",
    "\n",
    "c_net = VAE().cuda()\n",
    "pkl_dir = \"/home/lrh/program/git/pytorch-example/mnist_autoencoder/vae.pth\"\n",
    "c_net.load_state_dict(torch.load(pkl_dir))\n",
    "\n",
    "print c_net"
   ]
  },
  {
   "cell_type": "code",
   "execution_count": 5,
   "metadata": {},
   "outputs": [],
   "source": [
    "import torchvision.transforms as transforms\n",
    "import torchvision.datasets as dset\n",
    "import torchvision.utils as vutils\n",
    "\n",
    "result_directory = \".\"\n",
    "\n",
    "data = dset.MNIST(root=\"/home/lrh/dataset/mnist\",train = True,download=True,transform=transforms.Compose([\n",
    "            transforms.ToTensor(),\n",
    "            #transforms.Normalize((0.5, 0.5, 0.5), (0.5, 0.5, 0.5)),\n",
    "            ]))\n",
    "dataloader = torch.utils.data.DataLoader(data,batch_size=32,shuffle=True,drop_last=True)\n",
    "\n",
    "\n",
    "for epoch,data in enumerate(dataloader,0):\n",
    "    real_x,label = data\n",
    "    real_x = real_x.cuda()\n",
    "    fake_x,mu,var = c_net(real_x)\n",
    "    fake_x = fake_x.reshape(32,1,28,28)\n",
    "    vutils.save_image(fake_x.cpu().detach(),'%s/fake_samples_epoch_%03d.png'\n",
    "    % (result_directory,epoch),normalize=True)\n",
    "    break"
   ]
  },
  {
   "cell_type": "code",
   "execution_count": 4,
   "metadata": {},
   "outputs": [],
   "source": [
    "import torchvision.utils as vutils\n",
    "result_directory = \".\"\n",
    "fake_mu = torch.randn(64,20).cuda()\n",
    "#fake_sigma = torch.randn(64,20).cuda()\n",
    "\n",
    "#fake_x = c_net.decode(c_net.reparametrize(fake_mu,fake_sigma))\n",
    "fake_x = c_net.decode(fake_mu)\n",
    "fake_x = fake_x.reshape(64,1,28,28)\n",
    "vutils.save_image(fake_x.cpu().detach(),'%s/fake_samples_epoch_%03d.png'\n",
    "% (result_directory,0),normalize=True)"
   ]
  }
 ],
 "metadata": {
  "kernelspec": {
   "display_name": "Python 2",
   "language": "python",
   "name": "python2"
  },
  "language_info": {
   "codemirror_mode": {
    "name": "ipython",
    "version": 2
   },
   "file_extension": ".py",
   "mimetype": "text/x-python",
   "name": "python",
   "nbconvert_exporter": "python",
   "pygments_lexer": "ipython2",
   "version": "2.7.14"
  }
 },
 "nbformat": 4,
 "nbformat_minor": 2
}

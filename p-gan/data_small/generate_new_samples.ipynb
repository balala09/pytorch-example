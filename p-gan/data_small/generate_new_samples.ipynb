{
 "cells": [
  {
   "cell_type": "markdown",
   "metadata": {},
   "source": [
    "# generate new samples\n",
    "\n",
    "small samples\n",
    "\n"
   ]
  },
  {
   "cell_type": "code",
   "execution_count": 4,
   "metadata": {},
   "outputs": [
    {
     "name": "stdout",
     "output_type": "stream",
     "text": [
      "torch.Size([3, 32, 32])\n",
      "torch.Size([600, 3, 32, 32])\n",
      "tensor(71)\n",
      "tensor(66)\n",
      "tensor(57)\n",
      "tensor(58)\n",
      "tensor(64)\n",
      "tensor(56)\n",
      "tensor(77)\n",
      "tensor(46)\n",
      "tensor(55)\n",
      "tensor(50)\n"
     ]
    }
   ],
   "source": [
    "import torchvision.datasets as dset\n",
    "import torchvision.transforms as transforms\n",
    "import torch\n",
    "import torchvision.utils as vutils\n",
    "import matplotlib.pyplot as plt\n",
    "num_samples = 600\n",
    "data_root =\"cifar\"\n",
    "from PIL import Image\n",
    "cifar = dset.CIFAR10(root='/home/lrh/dataset/cifar-10', download=False,\n",
    "                             transform=transforms.Compose([\n",
    "                                 transforms.Resize(32),\n",
    "                                 transforms.ToTensor(),\n",
    "                                 transforms.Normalize((0.5, 0.5, 0.5), (0.5, 0.5, 0.5)),\n",
    "                             ])\n",
    "    )\n",
    "print cifar[0][0].shape\n",
    "\n",
    "dataloader = torch.utils.data.DataLoader(cifar,batch_size=num_samples,shuffle=True,drop_last=True)\n",
    "\n",
    "from scipy import misc\n",
    "import numpy as np\n",
    "for data in dataloader:\n",
    "    print data[0].shape\n",
    "    for i in range(10):\n",
    "        print (data[1]==i).sum()\n",
    "    vutils.save_image(data[0],data_root+\"/real_samples.png\",nrow=40,normalize=True)\n",
    "    \n",
    "    img =  data[0].numpy()\n",
    "    label = data[1].numpy()\n",
    "    np.save(data_root+\"/image.npy\",img)\n",
    "    np.save(data_root+\"/label.npy\",label)\n",
    "    break\n"
   ]
  },
  {
   "cell_type": "markdown",
   "metadata": {},
   "source": [
    "## generate mnist dataset"
   ]
  },
  {
   "cell_type": "code",
   "execution_count": 5,
   "metadata": {},
   "outputs": [
    {
     "name": "stdout",
     "output_type": "stream",
     "text": [
      "torch.Size([600, 1, 32, 32])\n",
      "tensor(51)\n",
      "tensor(63)\n",
      "tensor(59)\n",
      "tensor(64)\n",
      "tensor(67)\n",
      "tensor(69)\n",
      "tensor(55)\n",
      "tensor(49)\n",
      "tensor(54)\n",
      "tensor(69)\n"
     ]
    }
   ],
   "source": [
    "import torchvision.datasets as dset\n",
    "import torchvision.transforms as transforms\n",
    "import torch\n",
    "import torchvision.utils as vutils\n",
    "import matplotlib.pyplot as plt\n",
    "num_samples = 600\n",
    "data_root =\"mnist\"\n",
    "from PIL import Image\n",
    "cifar = dset.MNIST(root='/home/lrh/dataset/mnist', download=False,\n",
    "                             transform=transforms.Compose([\n",
    "                                 transforms.Resize(32),\n",
    "                                 transforms.ToTensor(),\n",
    "                                 transforms.Normalize((0.5, 0.5, 0.5), (0.5, 0.5, 0.5)),\n",
    "                             ])\n",
    "    )\n",
    "\n",
    "dataloader = torch.utils.data.DataLoader(cifar,batch_size=num_samples,shuffle=True,drop_last=True)\n",
    "\n",
    "from scipy import misc\n",
    "import numpy as np\n",
    "for data in dataloader:\n",
    "    print data[0].shape\n",
    "    for i in range(10):\n",
    "        print (data[1]==i).sum()\n",
    "    vutils.save_image(data[0],data_root+\"/real_samples.png\",nrow=40,normalize=True)\n",
    "    \n",
    "    img =  data[0].numpy()\n",
    "    label = data[1].numpy()\n",
    "    np.save(data_root+\"/image.npy\",img)\n",
    "    np.save(data_root+\"/label.npy\",label)\n",
    "    break\n"
   ]
  },
  {
   "cell_type": "markdown",
   "metadata": {},
   "source": [
    "## generate lsun bedroom dataset\n"
   ]
  },
  {
   "cell_type": "code",
   "execution_count": null,
   "metadata": {
    "collapsed": true
   },
   "outputs": [],
   "source": []
  },
  {
   "cell_type": "markdown",
   "metadata": {},
   "source": [
    "## read dataset"
   ]
  },
  {
   "cell_type": "code",
   "execution_count": 13,
   "metadata": {},
   "outputs": [
    {
     "name": "stdout",
     "output_type": "stream",
     "text": [
      "tensor([[[ 0.0196,  0.0196,  0.0275,  ..., -0.0431, -0.2549, -0.3255],\n",
      "         [ 0.0196,  0.0275,  0.0275,  ..., -0.0431, -0.1137, -0.1373],\n",
      "         [ 0.0196,  0.0275,  0.0275,  ..., -0.0431, -0.1373, -0.1373],\n",
      "         ...,\n",
      "         [-0.2314, -0.1294, -0.0980,  ...,  0.4824,  0.4902,  0.5765],\n",
      "         [-0.2471, -0.1294, -0.0902,  ...,  0.3490,  0.5294,  0.6392],\n",
      "         [-0.2471, -0.1216, -0.0745,  ...,  0.2627,  0.2549,  0.3412]],\n",
      "\n",
      "        [[ 0.0118,  0.0118,  0.0196,  ..., -0.0118, -0.2078, -0.2706],\n",
      "         [ 0.0118,  0.0196,  0.0196,  ..., -0.0118, -0.0667, -0.0824],\n",
      "         [ 0.0118,  0.0196,  0.0196,  ..., -0.0118, -0.0902, -0.0902],\n",
      "         ...,\n",
      "         [-0.2314, -0.1294, -0.0980,  ...,  0.5137,  0.5216,  0.6000],\n",
      "         [-0.2471, -0.1294, -0.0902,  ...,  0.4196,  0.5843,  0.6941],\n",
      "         [-0.2471, -0.1216, -0.0745,  ...,  0.3569,  0.3412,  0.4118]],\n",
      "\n",
      "        [[-0.0039, -0.0039,  0.0039,  ..., -0.0588, -0.2549, -0.3255],\n",
      "         [-0.0039,  0.0039,  0.0039,  ..., -0.0510, -0.1137, -0.1373],\n",
      "         [-0.0039,  0.0039,  0.0039,  ..., -0.0353, -0.1216, -0.1216],\n",
      "         ...,\n",
      "         [-0.2471, -0.1451, -0.1137,  ...,  0.6157,  0.6078,  0.6784],\n",
      "         [-0.2627, -0.1451, -0.1059,  ...,  0.5216,  0.6863,  0.7725],\n",
      "         [-0.2627, -0.1373, -0.0902,  ...,  0.4667,  0.4353,  0.5059]]])\n",
      "tensor([[[-0.0745, -0.0902, -0.0745,  ...,  0.0902, -0.3725, -0.5922],\n",
      "         [-0.1216, -0.1294, -0.1294,  ...,  0.0902, -0.3098, -0.5686],\n",
      "         [-0.1765, -0.1608, -0.1059,  ...,  0.0902, -0.3647, -0.6471],\n",
      "         ...,\n",
      "         [ 0.3176,  0.3333,  0.3490,  ..., -0.1765, -0.1137, -0.1843],\n",
      "         [ 0.3020,  0.2706,  0.2784,  ..., -0.5843, -0.3020, -0.1765],\n",
      "         [ 0.2000,  0.2784,  0.3255,  ..., -0.5608, -0.6157, -0.5765]],\n",
      "\n",
      "        [[-0.5294, -0.5529, -0.5373,  ..., -0.4588, -0.7098, -0.7961],\n",
      "         [-0.5765, -0.5843, -0.5843,  ..., -0.4588, -0.6549, -0.7725],\n",
      "         [-0.6157, -0.6000, -0.5529,  ..., -0.4588, -0.7176, -0.8667],\n",
      "         ...,\n",
      "         [-0.5137, -0.5137, -0.5216,  ..., -0.5294, -0.4667, -0.5294],\n",
      "         [-0.4510, -0.5137, -0.5529,  ..., -0.9373, -0.6549, -0.5216],\n",
      "         [-0.5059, -0.4588, -0.4824,  ..., -0.9216, -0.9686, -0.9216]],\n",
      "\n",
      "        [[-0.6392, -0.6627, -0.6471,  ..., -0.5529, -0.8039, -0.8980],\n",
      "         [-0.6863, -0.6941, -0.6941,  ..., -0.5529, -0.7569, -0.8902],\n",
      "         [-0.7333, -0.7176, -0.6627,  ..., -0.5529, -0.8118, -0.9686],\n",
      "         ...,\n",
      "         [-0.3412, -0.3333, -0.3412,  ..., -0.5843, -0.5451, -0.6157],\n",
      "         [-0.3020, -0.3569, -0.3961,  ..., -0.9686, -0.7255, -0.6078],\n",
      "         [-0.3725, -0.3255, -0.3333,  ..., -0.9608, -1.0000, -0.9843]]])\n",
      "tensor([[[-0.4824, -0.4824, -0.4745,  ..., -0.1686, -0.1686, -0.1686],\n",
      "         [-0.4824, -0.4745, -0.4667,  ..., -0.1686, -0.1686, -0.1686],\n",
      "         [-0.4745, -0.4745, -0.4588,  ..., -0.1608, -0.1608, -0.1608],\n",
      "         ...,\n",
      "         [-0.1843, -0.1843, -0.1686,  ...,  0.0902,  0.0824,  0.0824],\n",
      "         [-0.1765, -0.1765, -0.1608,  ...,  0.0902,  0.0824,  0.0745],\n",
      "         [-0.1529, -0.1451, -0.1373,  ...,  0.0824,  0.0745,  0.0745]],\n",
      "\n",
      "        [[-0.4824, -0.4824, -0.4745,  ..., -0.2157, -0.2157, -0.2157],\n",
      "         [-0.4824, -0.4745, -0.4667,  ..., -0.2157, -0.2157, -0.2157],\n",
      "         [-0.4745, -0.4745, -0.4588,  ..., -0.2078, -0.2078, -0.2078],\n",
      "         ...,\n",
      "         [-0.2235, -0.2235, -0.2078,  ...,  0.0275,  0.0196,  0.0196],\n",
      "         [-0.2157, -0.2157, -0.2000,  ...,  0.0275,  0.0196,  0.0118],\n",
      "         [-0.1922, -0.1843, -0.1765,  ...,  0.0196,  0.0118,  0.0118]],\n",
      "\n",
      "        [[-0.4980, -0.4980, -0.4902,  ..., -0.2000, -0.2000, -0.2000],\n",
      "         [-0.4980, -0.4902, -0.4824,  ..., -0.2000, -0.2000, -0.2000],\n",
      "         [-0.4902, -0.4902, -0.4745,  ..., -0.1922, -0.1922, -0.1922],\n",
      "         ...,\n",
      "         [-0.2706, -0.2706, -0.2549,  ..., -0.0745, -0.0824, -0.0824],\n",
      "         [-0.2627, -0.2627, -0.2471,  ..., -0.0745, -0.0824, -0.0902],\n",
      "         [-0.2392, -0.2314, -0.2235,  ..., -0.0824, -0.0902, -0.0902]]])\n",
      "tensor([[[-0.9451, -0.9529, -0.9608,  ...,  0.0196,  0.0196,  0.0118],\n",
      "         [-0.9451, -0.9529, -0.9686,  ...,  0.0196,  0.0196,  0.0118],\n",
      "         [-0.9373, -0.9451, -0.9608,  ...,  0.0275,  0.0196,  0.0196],\n",
      "         ...,\n",
      "         [ 0.0824,  0.0588,  0.1216,  ..., -0.4588, -0.4745, -0.4745],\n",
      "         [ 0.0824, -0.0902, -0.1608,  ..., -0.4588, -0.4745, -0.4824],\n",
      "         [-0.1529, -0.1922, -0.1608,  ..., -0.4745, -0.4667, -0.4510]],\n",
      "\n",
      "        [[-0.7490, -0.7412, -0.7412,  ...,  0.0667,  0.0667,  0.0588],\n",
      "         [-0.7490, -0.7412, -0.7412,  ...,  0.0667,  0.0667,  0.0588],\n",
      "         [-0.7412, -0.7333, -0.7333,  ...,  0.0745,  0.0667,  0.0667],\n",
      "         ...,\n",
      "         [ 0.0980,  0.0745,  0.1373,  ..., -0.4275, -0.4353, -0.4431],\n",
      "         [ 0.0980, -0.0745, -0.1451,  ..., -0.4431, -0.4510, -0.4510],\n",
      "         [-0.1373, -0.1765, -0.1451,  ..., -0.4588, -0.4510, -0.4353]],\n",
      "\n",
      "        [[-0.5922, -0.5843, -0.5686,  ...,  0.0353,  0.0353,  0.0275],\n",
      "         [-0.5922, -0.5843, -0.5608,  ...,  0.0353,  0.0353,  0.0275],\n",
      "         [-0.5765, -0.5686, -0.5529,  ...,  0.0431,  0.0353,  0.0353],\n",
      "         ...,\n",
      "         [ 0.0902,  0.0667,  0.1294,  ..., -0.4588, -0.4667, -0.4588],\n",
      "         [ 0.0902, -0.0824, -0.1529,  ..., -0.4667, -0.4667, -0.4588],\n",
      "         [-0.1451, -0.1843, -0.1529,  ..., -0.4824, -0.4667, -0.4431]]])\n"
     ]
    }
   ],
   "source": [
    "import torch\n",
    "import torch.utils.data as data\n",
    "import numpy as np\n",
    "class smallCifarDataset(data.Dataset):\n",
    "    def __init__(self,root_dir):\n",
    "        self.data = np.load(root_dir)\n",
    "    def __getitem__(self,index):\n",
    "        return self.data[index]\n",
    "    def __len__(self):\n",
    "        return len(self.data)\n",
    "    \n",
    "    \n",
    "root_dir = \"/home/lrh/program/git/pytorch-example/p-gan/data_small/lsun/image.npy\"\n",
    "small_dataset = smallCifarDataset(root_dir)\n",
    "dataloader = torch.utils.data.DataLoader(small_dataset,batch_size=64,shuffle=True,drop_last=True)\n",
    "\n",
    "for data in dataloader:\n",
    "    print data[0]"
   ]
  }
 ],
 "metadata": {
  "kernelspec": {
   "display_name": "Python 2",
   "language": "python",
   "name": "python2"
  },
  "language_info": {
   "codemirror_mode": {
    "name": "ipython",
    "version": 2
   },
   "file_extension": ".py",
   "mimetype": "text/x-python",
   "name": "python",
   "nbconvert_exporter": "python",
   "pygments_lexer": "ipython2",
   "version": "2.7.14"
  }
 },
 "nbformat": 4,
 "nbformat_minor": 2
}

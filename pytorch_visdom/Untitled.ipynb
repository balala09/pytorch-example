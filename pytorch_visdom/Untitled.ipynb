{
 "cells": [
  {
   "cell_type": "code",
   "execution_count": null,
   "metadata": {
    "scrolled": false
   },
   "outputs": [],
   "source": [
    "import visdom\n",
    "import numpy as np\n",
    "vis = visdom.Visdom()\n",
    "vis.text('Hello, world!')\n",
    "#vis.image(np.ones((3, 10, 10)))"
   ]
  },
  {
   "cell_type": "code",
   "execution_count": 5,
   "metadata": {},
   "outputs": [
    {
     "name": "stdout",
     "output_type": "stream",
     "text": [
      "\n",
      " 5\n",
      "[torch.FloatTensor of size 1]\n",
      "\n"
     ]
    }
   ],
   "source": [
    "# Copyright 2017-present, Facebook, Inc.\n",
    "# All rights reserved.\n",
    "#\n",
    "# This source code is licensed under the license found in the\n",
    "# LICENSE file in the root directory of this source tree\n",
    "from visdom import Visdom\n",
    "import numpy as np\n",
    "import math\n",
    "import os.path\n",
    "import getpass\n",
    "from sys import platform as _platform\n",
    "from six.moves import urllib\n",
    "import time\n",
    "\n",
    "viz = Visdom()\n",
    "\n",
    "\n",
    "# win = viz.line(\n",
    "#     X=np.column_stack((np.arange(0, 10), np.arange(0, 10))),\n",
    "#     Y=np.column_stack((np.linspace(5, 10, 10), np.linspace(5, 10, 10) + 5)),\n",
    "# )\n",
    "\n",
    "# time.sleep(20)\n",
    "\n",
    "# viz.line(\n",
    "#     X=np.column_stack((np.arange(10, 20), np.arange(10, 20))),\n",
    "#     Y=np.column_stack((np.linspace(5, 10, 10), np.linspace(5, 10, 10) + 5)),\n",
    "#     win=win,\n",
    "#     update='append'\n",
    "# )\n",
    "\n",
    "import torch\n",
    "time = torch.Tensor([1,2,3,4,5,6,7,8,9])\n",
    "loss = torch.Tensor([5,4,2,14,5,6,8,7,2])\n",
    "\n",
    "print loss[0:1]\n",
    "\n",
    "win = viz.line(\n",
    "    X = time[0:1],\n",
    "    Y = loss[0:1]\n",
    ")\n",
    "\n",
    "for i in range(1,len(time)):\n",
    "    viz.line(\n",
    "        X = time[i:i+1],\n",
    "        Y = loss[i:i+1],\n",
    "        win = win,\n",
    "        update='append'\n",
    "    )\n",
    "\n"
   ]
  },
  {
   "cell_type": "code",
   "execution_count": null,
   "metadata": {},
   "outputs": [],
   "source": [
    "import torch\n",
    "\n",
    "time = torch.Tensor([1,2,3])\n",
    "\n",
    "print time"
   ]
  }
 ],
 "metadata": {
  "kernelspec": {
   "display_name": "Python 2",
   "language": "python",
   "name": "python2"
  },
  "language_info": {
   "codemirror_mode": {
    "name": "ipython",
    "version": 2
   },
   "file_extension": ".py",
   "mimetype": "text/x-python",
   "name": "python",
   "nbconvert_exporter": "python",
   "pygments_lexer": "ipython2",
   "version": "2.7.13"
  }
 },
 "nbformat": 4,
 "nbformat_minor": 2
}
